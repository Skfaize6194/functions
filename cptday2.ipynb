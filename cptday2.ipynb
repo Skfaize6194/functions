{
  "metadata": {
    "kernelspec": {
      "name": "python",
      "display_name": "Python (Pyodide)",
      "language": "python"
    },
    "language_info": {
      "codemirror_mode": {
        "name": "python",
        "version": 3
      },
      "file_extension": ".py",
      "mimetype": "text/x-python",
      "name": "python",
      "nbconvert_exporter": "python",
      "pygments_lexer": "ipython3",
      "version": "3.8"
    }
  },
  "nbformat_minor": 5,
  "nbformat": 4,
  "cells": [
    {
      "id": "fd3fb0c7-1e39-4a74-9e1b-d37873b4f03e",
      "cell_type": "code",
      "source": "def add(a,b):\n    output= a+b\n    return output\nresult   \n\n",
      "metadata": {
        "trusted": true
      },
      "outputs": [],
      "execution_count": null
    },
    {
      "id": "50ecab4b-2815-4d77-a55f-d78c2f05bc58",
      "cell_type": "code",
      "source": "#no arg no return\ndef hi():\n    print(\"66666\")\nhi()",
      "metadata": {
        "trusted": true
      },
      "outputs": [
        {
          "name": "stdout",
          "output_type": "stream",
          "text": "66666\n"
        }
      ],
      "execution_count": 1
    },
    {
      "id": "49948e13-8da8-4c4a-b3ba-5037da86274c",
      "cell_type": "code",
      "source": "def hi(text):\n    return f\"Bharat, {text}!!!!\"\nprint(hi(\"India\"))",
      "metadata": {
        "trusted": true
      },
      "outputs": [
        {
          "name": "stdout",
          "output_type": "stream",
          "text": "Bharat, India!!!!\n"
        }
      ],
      "execution_count": 2
    },
    {
      "id": "eef90f98-3488-4c9d-88a6-dc0e96eb90b5",
      "cell_type": "code",
      "source": "#functions with default args\ndef result(a, b=1):\n    return a*b\nprint(result(5))\nprint(result(5,10))",
      "metadata": {
        "trusted": true
      },
      "outputs": [
        {
          "name": "stdout",
          "output_type": "stream",
          "text": "5\n50\n"
        }
      ],
      "execution_count": 3
    },
    {
      "id": "c49b767e-8444-4a71-8a6a-13e4e3d09c6e",
      "cell_type": "code",
      "source": "#functions with variale args--(*args)\ndef total(*args):\n    return sum(args)\nprint(total(1,2,3,4,5))\nprint(total(11,22,33,44,55))\n",
      "metadata": {
        "trusted": true
      },
      "outputs": [
        {
          "name": "stdout",
          "output_type": "stream",
          "text": "15\n165\n"
        }
      ],
      "execution_count": 4
    },
    {
      "id": "bc2597f9-49c9-4930-b3d5-954907ee4d06",
      "cell_type": "code",
      "source": "#functions with keyword arg --(**kwargs)\ndef info(**kwargs):\n    for key,value in kwargs.items():\n        print(f\"{key}:{value}\")\ninfo( name='vijay', height=6.2, city='mumbai')",
      "metadata": {
        "trusted": true
      },
      "outputs": [
        {
          "name": "stdout",
          "output_type": "stream",
          "text": "name:vijay\nheight:6.2\ncity:mumbai\n"
        }
      ],
      "execution_count": 6
    },
    {
      "id": "aaff2292-3d6f-4eda-b5d5-21a44d1878be",
      "cell_type": "code",
      "source": "def values(n):\n    return min(n), max(n), sum(n)/len(n)\nmin_val,max_val, avg= values([1,2,3,4,5])\nprint(f\"minimum:{min_val},maximum:{max_val},Average:{avg}\")\n\n",
      "metadata": {
        "trusted": true
      },
      "outputs": [
        {
          "name": "stdout",
          "output_type": "stream",
          "text": "minimum:1,maximum:5,Average:3.0\n"
        }
      ],
      "execution_count": 11
    },
    {
      "id": "d2e53685-54f9-428d-a4ff-29cf02763a88",
      "cell_type": "code",
      "source": "#lambda functions\nsquare= lambda X:X*X\nprint(square(4))\nadd=lambda a,b,c:\n",
      "metadata": {
        "trusted": true
      },
      "outputs": [],
      "execution_count": null
    },
    {
      "id": "0404920e-0adb-45c1-ba82-4f90f7493b68",
      "cell_type": "code",
      "source": "#Recursive function\n#direct rec\n\ndef fact(n):\n    if n==0 or n==1:\n        return 1\n    return n *fact(n-1)\nprint(fact(5))\n\n",
      "metadata": {
        "trusted": true
      },
      "outputs": [
        {
          "name": "stdout",
          "output_type": "stream",
          "text": "120\n"
        }
      ],
      "execution_count": 13
    },
    {
      "id": "39283f38-13e6-4aff-9257-9d245212f9a4",
      "cell_type": "code",
      "source": "",
      "metadata": {
        "trusted": true
      },
      "outputs": [],
      "execution_count": null
    },
    {
      "id": "9922dff4-7440-4e7a-a8e8-e3c8e6b7dc8c",
      "cell_type": "code",
      "source": "",
      "metadata": {
        "trusted": true
      },
      "outputs": [],
      "execution_count": null
    },
    {
      "id": "fe5f5c78-9305-4021-b966-9c481515e734",
      "cell_type": "code",
      "source": "",
      "metadata": {
        "trusted": true
      },
      "outputs": [],
      "execution_count": null
    }
  ]
}